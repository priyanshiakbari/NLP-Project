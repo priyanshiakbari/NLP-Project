{
 "cells": [
  {
   "cell_type": "markdown",
   "metadata": {},
   "source": [
    "# Importing Libraries"
   ]
  },
  {
   "cell_type": "code",
   "execution_count": 1,
   "metadata": {},
   "outputs": [],
   "source": [
    "from GoogleNews import GoogleNews\n",
    "import pandas as pd"
   ]
  },
  {
   "cell_type": "markdown",
   "metadata": {},
   "source": [
    "# Fetching the news headlines from Google News"
   ]
  },
  {
   "cell_type": "code",
   "execution_count": 2,
   "metadata": {},
   "outputs": [
    {
     "name": "stdout",
     "output_type": "stream",
     "text": [
      "'<' not supported between instances of 'datetime.datetime' and 'NoneType'\n"
     ]
    }
   ],
   "source": [
    "gn = GoogleNews()\n",
    "\n",
    "gn.get_news('Covid-19')\n",
    "df = pd.DataFrame(gn.results(sort=True))"
   ]
  },
  {
   "cell_type": "markdown",
   "metadata": {},
   "source": [
    "# Dropping unnecessary columns and displaying the dataframe"
   ]
  },
  {
   "cell_type": "code",
   "execution_count": 3,
   "metadata": {},
   "outputs": [
    {
     "data": {
      "text/html": [
       "<div>\n",
       "<style scoped>\n",
       "    .dataframe tbody tr th:only-of-type {\n",
       "        vertical-align: middle;\n",
       "    }\n",
       "\n",
       "    .dataframe tbody tr th {\n",
       "        vertical-align: top;\n",
       "    }\n",
       "\n",
       "    .dataframe thead th {\n",
       "        text-align: right;\n",
       "    }\n",
       "</style>\n",
       "<table border=\"1\" class=\"dataframe\">\n",
       "  <thead>\n",
       "    <tr style=\"text-align: right;\">\n",
       "      <th></th>\n",
       "      <th>title</th>\n",
       "      <th>desc</th>\n",
       "      <th>site</th>\n",
       "    </tr>\n",
       "  </thead>\n",
       "  <tbody>\n",
       "    <tr>\n",
       "      <th>0</th>\n",
       "      <td>85 new Covid-19 cases in Delhi; lowest single-...</td>\n",
       "      <td>The Capital also reported 158 new recoveries f...</td>\n",
       "      <td>Hindustan Times</td>\n",
       "    </tr>\n",
       "    <tr>\n",
       "      <th>1</th>\n",
       "      <td>Foods that will help maximise the effect of Co...</td>\n",
       "      <td>\"Besides including these food items, make sure...</td>\n",
       "      <td>The Indian Express</td>\n",
       "    </tr>\n",
       "    <tr>\n",
       "      <th>2</th>\n",
       "      <td>Coronavirus News Live Updates: Goa extends sta...</td>\n",
       "      <td>Coronavirus News Live Updates: Third wave of C...</td>\n",
       "      <td>Moneycontrol</td>\n",
       "    </tr>\n",
       "    <tr>\n",
       "      <th>3</th>\n",
       "      <td>31 policemen succumbed to Covid-19 during seco...</td>\n",
       "      <td>A study published in the Indian Journal of med...</td>\n",
       "      <td>India Today</td>\n",
       "    </tr>\n",
       "    <tr>\n",
       "      <th>4</th>\n",
       "      <td>Kerala records 12,118 fresh Covid-19 cases, 11...</td>\n",
       "      <td>Read more about Kerala records 12118 *fresh* C...</td>\n",
       "      <td>Business Standard</td>\n",
       "    </tr>\n",
       "  </tbody>\n",
       "</table>\n",
       "</div>"
      ],
      "text/plain": [
       "                                               title  \\\n",
       "0  85 new Covid-19 cases in Delhi; lowest single-...   \n",
       "1  Foods that will help maximise the effect of Co...   \n",
       "2  Coronavirus News Live Updates: Goa extends sta...   \n",
       "3  31 policemen succumbed to Covid-19 during seco...   \n",
       "4  Kerala records 12,118 fresh Covid-19 cases, 11...   \n",
       "\n",
       "                                                desc                site  \n",
       "0  The Capital also reported 158 new recoveries f...     Hindustan Times  \n",
       "1  \"Besides including these food items, make sure...  The Indian Express  \n",
       "2  Coronavirus News Live Updates: Third wave of C...        Moneycontrol  \n",
       "3  A study published in the Indian Journal of med...         India Today  \n",
       "4  Read more about Kerala records 12118 *fresh* C...   Business Standard  "
      ]
     },
     "execution_count": 3,
     "metadata": {},
     "output_type": "execute_result"
    }
   ],
   "source": [
    "df = df.drop([\"link\", \"date\", \"datetime\", \"img\", \"media\"], axis=1)\n",
    "df.head()"
   ]
  },
  {
   "cell_type": "markdown",
   "metadata": {},
   "source": [
    "# Storing the data in csv file and json file"
   ]
  },
  {
   "cell_type": "code",
   "execution_count": 4,
   "metadata": {},
   "outputs": [],
   "source": [
    "df.to_csv('google_news.csv')\n",
    "df.to_json('google_news.json')"
   ]
  },
  {
   "cell_type": "code",
   "execution_count": null,
   "metadata": {},
   "outputs": [],
   "source": []
  }
 ],
 "metadata": {
  "kernelspec": {
   "display_name": "Python 3",
   "language": "python",
   "name": "python3"
  },
  "language_info": {
   "codemirror_mode": {
    "name": "ipython",
    "version": 3
   },
   "file_extension": ".py",
   "mimetype": "text/x-python",
   "name": "python",
   "nbconvert_exporter": "python",
   "pygments_lexer": "ipython3",
   "version": "3.8.0"
  }
 },
 "nbformat": 4,
 "nbformat_minor": 4
}
